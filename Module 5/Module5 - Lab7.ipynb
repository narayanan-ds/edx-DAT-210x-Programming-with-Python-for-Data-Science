{
 "cells": [
  {
   "cell_type": "markdown",
   "metadata": {},
   "source": [
    "# DAT210x - Programming with Python for DS"
   ]
  },
  {
   "cell_type": "markdown",
   "metadata": {},
   "source": [
    "## Module5- Lab7"
   ]
  },
  {
   "cell_type": "code",
   "execution_count": 148,
   "metadata": {},
   "outputs": [],
   "source": [
    "import random, math\n",
    "import pandas as pd\n",
    "import numpy as np\n",
    "import scipy.io\n",
    "import matplotlib\n",
    "from mpl_toolkits.mplot3d import Axes3D\n",
    "import matplotlib.pyplot as plt\n",
    "import sklearn.preprocessing as sp\n",
    "from sklearn.neighbors import KNeighborsClassifier\n",
    "matplotlib.style.use('ggplot') # Look Pretty\n",
    "\n",
    "\n",
    "# Leave this alone until indicated:\n",
    "Test_PCA = True"
   ]
  },
  {
   "cell_type": "markdown",
   "metadata": {},
   "source": [
    "### A Convenience Function"
   ]
  },
  {
   "cell_type": "markdown",
   "metadata": {},
   "source": [
    "This method is for your visualization convenience only. You aren't expected to know how to put this together yourself, although you should be able to follow the code by now:"
   ]
  },
  {
   "cell_type": "code",
   "execution_count": 3,
   "metadata": {},
   "outputs": [],
   "source": [
    "def plotDecisionBoundary(model, X, y):\n",
    "    print(\"Plotting...\")\n",
    "\n",
    "    fig = plt.figure()\n",
    "    ax = fig.add_subplot(111)\n",
    "\n",
    "    padding = 0.1\n",
    "    resolution = 0.1\n",
    "\n",
    "    #(2 for benign, 4 for malignant)\n",
    "    colors = {2:'royalblue', 4:'lightsalmon'} \n",
    "\n",
    "\n",
    "    # Calculate the boundaris\n",
    "    x_min, x_max = X[:, 0].min(), X[:, 0].max()\n",
    "    y_min, y_max = X[:, 1].min(), X[:, 1].max()\n",
    "    x_range = x_max - x_min\n",
    "    y_range = y_max - y_min\n",
    "    x_min -= x_range * padding\n",
    "    y_min -= y_range * padding\n",
    "    x_max += x_range * padding\n",
    "    y_max += y_range * padding\n",
    "\n",
    "    # Create a 2D Grid Matrix. The values stored in the matrix\n",
    "    # are the predictions of the class at at said location\n",
    "    xx, yy = np.meshgrid(np.arange(x_min, x_max, resolution),\n",
    "                         np.arange(y_min, y_max, resolution))\n",
    "\n",
    "    # What class does the classifier say?\n",
    "    Z = model.predict(np.c_[xx.ravel(), yy.ravel()])\n",
    "    Z = Z.reshape(xx.shape)\n",
    "\n",
    "    # Plot the contour map\n",
    "    plt.contourf(xx, yy, Z, cmap=plt.cm.seismic)\n",
    "    plt.axis('tight')\n",
    "\n",
    "    # Plot your testing points as well...\n",
    "    for label in np.unique(y):\n",
    "        indices = np.where(y == label)\n",
    "        plt.scatter(X[indices, 0], X[indices, 1], c=colors[label], alpha=0.8)\n",
    "\n",
    "    p = model.get_params()\n",
    "    plt.title('K = ' + str(p['n_neighbors']))\n",
    "    plt.show()"
   ]
  },
  {
   "cell_type": "markdown",
   "metadata": {
    "collapsed": true
   },
   "source": [
    "### The Assignment"
   ]
  },
  {
   "cell_type": "markdown",
   "metadata": {
    "collapsed": true
   },
   "source": [
    "Load in the dataset, identify nans, and set proper headers. Be sure to verify the rows line up by looking at the file in a text editor."
   ]
  },
  {
   "cell_type": "code",
   "execution_count": 149,
   "metadata": {},
   "outputs": [
    {
     "data": {
      "text/plain": [
       "thickness      int64\n",
       "size           int64\n",
       "shape          int64\n",
       "adhesion       int64\n",
       "epithelial     int64\n",
       "nuclei        object\n",
       "chromatin      int64\n",
       "nucleoli       int64\n",
       "mitoses        int64\n",
       "status         int64\n",
       "dtype: object"
      ]
     },
     "execution_count": 149,
     "metadata": {},
     "output_type": "execute_result"
    }
   ],
   "source": [
    "# .. your code here ..\n",
    "df=pd.read_csv('breast-cancer-wisconsin.data',header=None,names=['sample', 'thickness', 'size', 'shape', 'adhesion', 'epithelial', 'nuclei', 'chromatin', 'nucleoli', 'mitoses', 'status'],index_col=0)\n",
    "df.head()\n",
    "df.dtypes"
   ]
  },
  {
   "cell_type": "markdown",
   "metadata": {},
   "source": [
    "Copy out the status column into a slice, then drop it from the main dataframe. Always verify you properly executed the drop by double checking (printing out the resulting operating)! Many people forget to set the right axis here.\n",
    "\n",
    "If you goofed up on loading the dataset and notice you have a `sample` column, this would be a good place to drop that too if you haven't already."
   ]
  },
  {
   "cell_type": "markdown",
   "metadata": {},
   "source": [
    "Nuclei column has some '?' values, replace the with NANs and fill it with mean values. Print unique values to confirm the process"
   ]
  },
  {
   "cell_type": "code",
   "execution_count": 150,
   "metadata": {},
   "outputs": [
    {
     "data": {
      "text/plain": [
       "array([ 1., 10.,  2.,  4.,  3.,  9.,  7.,  5.,  8.,  6.])"
      ]
     },
     "execution_count": 150,
     "metadata": {},
     "output_type": "execute_result"
    }
   ],
   "source": [
    "df.nuclei = pd.to_numeric(df.nuclei, errors='coerce')\n",
    "df = df.fillna(method = 'backfill', axis = 1)\n",
    "df.nuclei.unique()"
   ]
  },
  {
   "cell_type": "code",
   "execution_count": 151,
   "metadata": {},
   "outputs": [],
   "source": [
    "status1=df['status'].copy()\n",
    "df=df.drop(labels=['status'],axis=1)\n",
    "status1.columns=['status']\n",
    "status1=pd.DataFrame(status1)"
   ]
  },
  {
   "cell_type": "code",
   "execution_count": 152,
   "metadata": {},
   "outputs": [
    {
     "data": {
      "text/plain": [
       "array([2., 4.])"
      ]
     },
     "execution_count": 152,
     "metadata": {},
     "output_type": "execute_result"
    }
   ],
   "source": [
    "status1['status'].unique()"
   ]
  },
  {
   "cell_type": "markdown",
   "metadata": {},
   "source": [
    "With the labels safely extracted from the dataset, replace any nan values with the mean feature / column value:"
   ]
  },
  {
   "cell_type": "markdown",
   "metadata": {},
   "source": [
    "Do train_test_split. Use the same variable names as on the EdX platform in the reading material, but set the random_state=7 for reproducibility, and keep the test_size at 0.5 (50%)."
   ]
  },
  {
   "cell_type": "code",
   "execution_count": 153,
   "metadata": {},
   "outputs": [],
   "source": [
    "from sklearn.model_selection import train_test_split\n",
    "Xtrain,Xtest,ytrain,ytest = train_test_split(df,status1,test_size=.5,random_state=7)"
   ]
  },
  {
   "cell_type": "markdown",
   "metadata": {},
   "source": [
    "Experiment with the basic SKLearn preprocessing scalers. We know that the features consist of different units mixed in together, so it might be reasonable to assume feature scaling is necessary. Print out a description of the dataset, post transformation. Recall: when you do pre-processing, which portion of the dataset is your model trained upon? Also which portion(s) of your dataset actually get transformed?"
   ]
  },
  {
   "cell_type": "code",
   "execution_count": 154,
   "metadata": {},
   "outputs": [],
   "source": [
    "#T = sp.StandardScaler()\n",
    "#T = sp.MinMaxScaler()\n",
    "T = sp.MaxAbsScaler()\n",
    "#T =sp.Normalizer()"
   ]
  },
  {
   "cell_type": "code",
   "execution_count": 155,
   "metadata": {},
   "outputs": [],
   "source": [
    "Xtrain=T.fit_transform(Xtrain)\n",
    "#Xtrain=T1.tranform(Xtrain)\n",
    "Xtest=T.transform(Xtest)"
   ]
  },
  {
   "cell_type": "markdown",
   "metadata": {},
   "source": [
    "### Dimensionality Reduction"
   ]
  },
  {
   "cell_type": "markdown",
   "metadata": {},
   "source": [
    "PCA and Isomap are your new best friends"
   ]
  },
  {
   "cell_type": "code",
   "execution_count": 156,
   "metadata": {},
   "outputs": [
    {
     "name": "stdout",
     "output_type": "stream",
     "text": [
      "Computing 2D Principle Components\n",
      "(349, 2)\n"
     ]
    }
   ],
   "source": [
    "model = None\n",
    "\n",
    "if Test_PCA:\n",
    "    print('Computing 2D Principle Components')\n",
    "    # TODO: Implement PCA here. Save your model into the variable 'model'.\n",
    "    # You should reduce down to two dimensions.\n",
    "    \n",
    "    # .. your code here ..\n",
    "    from sklearn.decomposition import PCA\n",
    "    pca = PCA(n_components=2, svd_solver='full')\n",
    "    pca.fit(Xtrain)\n",
    "    PCA(copy=True, n_components=2, whiten=False)\n",
    "    Xtrain = pca.transform(Xtrain)\n",
    "    Xtest =pca.transform(Xtest)\n",
    "    print(Xtrain.shape)\n",
    "    \n",
    "else:\n",
    "    print('Computing 2D Isomap Manifold')\n",
    "    # TODO: Implement Isomap here. Save your model into the variable 'model'\n",
    "    # Experiment with K values from 5-10.\n",
    "    # You should reduce down to two dimensions.\n",
    "\n",
    "    # .. your code here ..\n",
    "    from sklearn import manifold\n",
    "    iso = manifold.Isomap(n_neighbors=5, n_components=2)\n",
    "    iso.fit(Xtrain)\n",
    "    manifold.Isomap(eigen_solver='auto', max_iter=None, n_components=2, n_neighbors=5,neighbors_algorithm='auto', path_method='auto', tol=0)\n",
    "    Xtrain = iso.transform(Xtrain)\n",
    "    Xtest = iso.transform(Xtest)\n",
    "    print(Xtrain.shape)"
   ]
  },
  {
   "cell_type": "markdown",
   "metadata": {},
   "source": [
    "Train your model against data_train, then transform both `data_train` and `data_test` using your model. You can save the results right back into the variables themselves."
   ]
  },
  {
   "cell_type": "code",
   "execution_count": 157,
   "metadata": {},
   "outputs": [],
   "source": [
    "ytrain=ytrain.iloc[:,0]\n",
    "ytest=ytest.iloc[:,0]"
   ]
  },
  {
   "cell_type": "code",
   "execution_count": 158,
   "metadata": {},
   "outputs": [],
   "source": [
    "scores=[]\n",
    "scores1=list(scores)\n",
    "neighbours=[]\n",
    "Neighbours1=list(neighbours)"
   ]
  },
  {
   "cell_type": "code",
   "execution_count": 31,
   "metadata": {},
   "outputs": [
    {
     "data": {
      "text/plain": [
       "KNeighborsClassifier(algorithm='auto', leaf_size=30, metric='minkowski',\n",
       "           metric_params=None, n_jobs=1, n_neighbors=7, p=2,\n",
       "           weights='distance')"
      ]
     },
     "execution_count": 31,
     "metadata": {},
     "output_type": "execute_result"
    }
   ],
   "source": [
    "model = KNeighborsClassifier(n_neighbors=7,weights='distance')\n",
    "#Train on XTrain and Ytrain\n",
    "model.fit(Xtrain,ytrain)"
   ]
  },
  {
   "cell_type": "code",
   "execution_count": 20,
   "metadata": {},
   "outputs": [],
   "source": [
    "score=model.score(Xtest,ytest)"
   ]
  },
  {
   "cell_type": "code",
   "execution_count": 21,
   "metadata": {},
   "outputs": [
    {
     "data": {
      "text/plain": [
       "0.9571428571428572"
      ]
     },
     "execution_count": 21,
     "metadata": {},
     "output_type": "execute_result"
    }
   ],
   "source": [
    "score"
   ]
  },
  {
   "cell_type": "code",
   "execution_count": 159,
   "metadata": {},
   "outputs": [],
   "source": [
    "for i in range(1,16):\n",
    " model = KNeighborsClassifier(n_neighbors=i)\n",
    " #Train on XTrain and Ytrain\n",
    " model.fit(Xtrain,ytrain)\n",
    " #Test on Xtest and Ytest\n",
    " score=model.score(Xtest,ytest)\n",
    " scores1.append(score)\n",
    " Neighbours1.append(i)"
   ]
  },
  {
   "cell_type": "code",
   "execution_count": 80,
   "metadata": {},
   "outputs": [
    {
     "data": {
      "text/html": [
       "<div>\n",
       "<style scoped>\n",
       "    .dataframe tbody tr th:only-of-type {\n",
       "        vertical-align: middle;\n",
       "    }\n",
       "\n",
       "    .dataframe tbody tr th {\n",
       "        vertical-align: top;\n",
       "    }\n",
       "\n",
       "    .dataframe thead th {\n",
       "        text-align: right;\n",
       "    }\n",
       "</style>\n",
       "<table border=\"1\" class=\"dataframe\">\n",
       "  <thead>\n",
       "    <tr style=\"text-align: right;\">\n",
       "      <th></th>\n",
       "      <th>Neighbours</th>\n",
       "      <th>Scores</th>\n",
       "    </tr>\n",
       "  </thead>\n",
       "  <tbody>\n",
       "    <tr>\n",
       "      <th>0</th>\n",
       "      <td>1</td>\n",
       "      <td>0.945714</td>\n",
       "    </tr>\n",
       "    <tr>\n",
       "      <th>1</th>\n",
       "      <td>2</td>\n",
       "      <td>0.937143</td>\n",
       "    </tr>\n",
       "    <tr>\n",
       "      <th>2</th>\n",
       "      <td>3</td>\n",
       "      <td>0.962857</td>\n",
       "    </tr>\n",
       "    <tr>\n",
       "      <th>3</th>\n",
       "      <td>4</td>\n",
       "      <td>0.951429</td>\n",
       "    </tr>\n",
       "    <tr>\n",
       "      <th>4</th>\n",
       "      <td>5</td>\n",
       "      <td>0.965714</td>\n",
       "    </tr>\n",
       "    <tr>\n",
       "      <th>5</th>\n",
       "      <td>6</td>\n",
       "      <td>0.965714</td>\n",
       "    </tr>\n",
       "    <tr>\n",
       "      <th>6</th>\n",
       "      <td>7</td>\n",
       "      <td>0.962857</td>\n",
       "    </tr>\n",
       "    <tr>\n",
       "      <th>7</th>\n",
       "      <td>8</td>\n",
       "      <td>0.962857</td>\n",
       "    </tr>\n",
       "    <tr>\n",
       "      <th>8</th>\n",
       "      <td>9</td>\n",
       "      <td>0.965714</td>\n",
       "    </tr>\n",
       "    <tr>\n",
       "      <th>9</th>\n",
       "      <td>10</td>\n",
       "      <td>0.960000</td>\n",
       "    </tr>\n",
       "    <tr>\n",
       "      <th>10</th>\n",
       "      <td>11</td>\n",
       "      <td>0.965714</td>\n",
       "    </tr>\n",
       "    <tr>\n",
       "      <th>11</th>\n",
       "      <td>12</td>\n",
       "      <td>0.960000</td>\n",
       "    </tr>\n",
       "    <tr>\n",
       "      <th>12</th>\n",
       "      <td>13</td>\n",
       "      <td>0.960000</td>\n",
       "    </tr>\n",
       "    <tr>\n",
       "      <th>13</th>\n",
       "      <td>14</td>\n",
       "      <td>0.957143</td>\n",
       "    </tr>\n",
       "    <tr>\n",
       "      <th>14</th>\n",
       "      <td>15</td>\n",
       "      <td>0.960000</td>\n",
       "    </tr>\n",
       "  </tbody>\n",
       "</table>\n",
       "</div>"
      ],
      "text/plain": [
       "    Neighbours    Scores\n",
       "0            1  0.945714\n",
       "1            2  0.937143\n",
       "2            3  0.962857\n",
       "3            4  0.951429\n",
       "4            5  0.965714\n",
       "5            6  0.965714\n",
       "6            7  0.962857\n",
       "7            8  0.962857\n",
       "8            9  0.965714\n",
       "9           10  0.960000\n",
       "10          11  0.965714\n",
       "11          12  0.960000\n",
       "12          13  0.960000\n",
       "13          14  0.957143\n",
       "14          15  0.960000"
      ]
     },
     "execution_count": 80,
     "metadata": {},
     "output_type": "execute_result"
    }
   ],
   "source": [
    "ScorebyNeighbour5=pd.DataFrame({'Neighbours': Neighbours1,'Scores': scores1})\n",
    "ScorebyNeighbour5"
   ]
  },
  {
   "cell_type": "code",
   "execution_count": 81,
   "metadata": {},
   "outputs": [
    {
     "name": "stdout",
     "output_type": "stream",
     "text": [
      "KNN with PCA and No scaling:\n",
      "\n",
      "    Neighbours    Scores\n",
      "0            1  0.945714\n",
      "1            2  0.937143\n",
      "2            3  0.962857\n",
      "3            4  0.951429\n",
      "4            5  0.965714\n",
      "5            6  0.965714\n",
      "6            7  0.962857\n",
      "7            8  0.962857\n",
      "8            9  0.965714\n",
      "9           10  0.960000\n",
      "10          11  0.965714\n",
      "11          12  0.960000\n",
      "12          13  0.960000\n",
      "13          14  0.957143\n",
      "14          15  0.960000\n"
     ]
    }
   ],
   "source": [
    "print(\"KNN with PCA and No scaling:\\n\")\n",
    "print(ScorebyNeighbour5)"
   ]
  },
  {
   "cell_type": "code",
   "execution_count": 160,
   "metadata": {},
   "outputs": [
    {
     "name": "stdout",
     "output_type": "stream",
     "text": [
      "KNN with PCA and Maxabs:\n",
      "\n",
      "    Neighbours    Scores\n",
      "0            1  0.945714\n",
      "1            2  0.937143\n",
      "2            3  0.962857\n",
      "3            4  0.951429\n",
      "4            5  0.965714\n",
      "5            6  0.965714\n",
      "6            7  0.962857\n",
      "7            8  0.962857\n",
      "8            9  0.965714\n",
      "9           10  0.960000\n",
      "10          11  0.965714\n",
      "11          12  0.960000\n",
      "12          13  0.960000\n",
      "13          14  0.957143\n",
      "14          15  0.960000\n"
     ]
    }
   ],
   "source": [
    "print(\"KNN with PCA and Maxabs:\\n\")\n",
    "print(ScorebyNeighbour3)"
   ]
  },
  {
   "cell_type": "code",
   "execution_count": 67,
   "metadata": {},
   "outputs": [
    {
     "name": "stdout",
     "output_type": "stream",
     "text": [
      "KNN with PCA and Normalizer:\n",
      "\n",
      "    Neighbours    Scores\n",
      "0            1  0.851429\n",
      "1            2  0.828571\n",
      "2            3  0.857143\n",
      "3            4  0.837143\n",
      "4            5  0.840000\n",
      "5            6  0.842857\n",
      "6            7  0.857143\n",
      "7            8  0.851429\n",
      "8            9  0.857143\n",
      "9           10  0.851429\n",
      "10          11  0.851429\n",
      "11          12  0.851429\n",
      "12          13  0.857143\n",
      "13          14  0.860000\n",
      "14          15  0.865714\n"
     ]
    }
   ],
   "source": [
    "print(\"KNN with PCA and Normalizer:\\n\")\n",
    "print(ScorebyNeighbour4)"
   ]
  },
  {
   "cell_type": "code",
   "execution_count": 47,
   "metadata": {},
   "outputs": [
    {
     "name": "stdout",
     "output_type": "stream",
     "text": [
      "KNN with PCA and MinMax Scaler:\n",
      "\n",
      "    Neighbours    Scores\n",
      "0            1  0.951429\n",
      "1            2  0.945714\n",
      "2            3  0.954286\n",
      "3            4  0.951429\n",
      "4            5  0.957143\n",
      "5            6  0.957143\n",
      "6            7  0.957143\n",
      "7            8  0.957143\n",
      "8            9  0.957143\n",
      "9           10  0.957143\n",
      "10          11  0.957143\n",
      "11          12  0.957143\n",
      "12          13  0.957143\n",
      "13          14  0.957143\n",
      "14          15  0.957143\n"
     ]
    }
   ],
   "source": [
    "print(\"KNN with PCA and MinMax Scaler:\\n\")\n",
    "print(ScorebyNeighbour2)"
   ]
  },
  {
   "cell_type": "code",
   "execution_count": 35,
   "metadata": {},
   "outputs": [
    {
     "name": "stdout",
     "output_type": "stream",
     "text": [
      "KNN with PCA and Standard Scaler:\n",
      "\n",
      "    Neighbours    Scores\n",
      "0            1  0.945714\n",
      "1            2  0.942857\n",
      "2            3  0.954286\n",
      "3            4  0.951429\n",
      "4            5  0.957143\n",
      "5            6  0.957143\n",
      "6            7  0.957143\n",
      "7            8  0.957143\n",
      "8            9  0.957143\n",
      "9           10  0.957143\n",
      "10          11  0.957143\n",
      "11          12  0.957143\n",
      "12          13  0.957143\n",
      "13          14  0.957143\n",
      "14          15  0.957143\n"
     ]
    }
   ],
   "source": [
    "print(\"KNN with PCA and Standard Scaler:\\n\")\n",
    "print(ScorebyNeighbour1)"
   ]
  },
  {
   "cell_type": "markdown",
   "metadata": {},
   "source": [
    "Implement and train `KNeighborsClassifier` on your projected 2D training data here. You can name your variable `knmodel`. You can use any `K` value from 1 - 15, so play around with it and see what results you can come up. Your goal is to find a good balance where you aren't too specific (low-K), nor are you too general (high-K). You should also experiment with how changing the weights parameter affects the results."
   ]
  },
  {
   "cell_type": "code",
   "execution_count": 124,
   "metadata": {},
   "outputs": [],
   "source": [
    "Results=pd.DataFrame(columns=['Neighbours', 'Score_standardscaler', 'Score_minmax', 'Score_maxabs', 'Score_normalizer','Score_noscaling'])"
   ]
  },
  {
   "cell_type": "code",
   "execution_count": 145,
   "metadata": {},
   "outputs": [
    {
     "data": {
      "text/html": [
       "<div>\n",
       "<style scoped>\n",
       "    .dataframe tbody tr th:only-of-type {\n",
       "        vertical-align: middle;\n",
       "    }\n",
       "\n",
       "    .dataframe tbody tr th {\n",
       "        vertical-align: top;\n",
       "    }\n",
       "\n",
       "    .dataframe thead th {\n",
       "        text-align: right;\n",
       "    }\n",
       "</style>\n",
       "<table border=\"1\" class=\"dataframe\">\n",
       "  <thead>\n",
       "    <tr style=\"text-align: right;\">\n",
       "      <th></th>\n",
       "      <th>Neighbours</th>\n",
       "      <th>Score_standardscaler</th>\n",
       "      <th>Score_minmax</th>\n",
       "      <th>Score_maxabs</th>\n",
       "      <th>Score_normalizer</th>\n",
       "      <th>Score_noscaling</th>\n",
       "    </tr>\n",
       "  </thead>\n",
       "  <tbody>\n",
       "    <tr>\n",
       "      <th>0</th>\n",
       "      <td>1</td>\n",
       "      <td>0.945714</td>\n",
       "      <td>0.951429</td>\n",
       "      <td>0.945714</td>\n",
       "      <td>0.851429</td>\n",
       "      <td>0.945714</td>\n",
       "    </tr>\n",
       "    <tr>\n",
       "      <th>1</th>\n",
       "      <td>2</td>\n",
       "      <td>0.942857</td>\n",
       "      <td>0.945714</td>\n",
       "      <td>0.937143</td>\n",
       "      <td>0.828571</td>\n",
       "      <td>0.937143</td>\n",
       "    </tr>\n",
       "    <tr>\n",
       "      <th>2</th>\n",
       "      <td>3</td>\n",
       "      <td>0.954286</td>\n",
       "      <td>0.954286</td>\n",
       "      <td>0.962857</td>\n",
       "      <td>0.857143</td>\n",
       "      <td>0.962857</td>\n",
       "    </tr>\n",
       "    <tr>\n",
       "      <th>3</th>\n",
       "      <td>4</td>\n",
       "      <td>0.951429</td>\n",
       "      <td>0.951429</td>\n",
       "      <td>0.951429</td>\n",
       "      <td>0.837143</td>\n",
       "      <td>0.951429</td>\n",
       "    </tr>\n",
       "    <tr>\n",
       "      <th>4</th>\n",
       "      <td>5</td>\n",
       "      <td>0.957143</td>\n",
       "      <td>0.957143</td>\n",
       "      <td>0.965714</td>\n",
       "      <td>0.840000</td>\n",
       "      <td>0.965714</td>\n",
       "    </tr>\n",
       "    <tr>\n",
       "      <th>5</th>\n",
       "      <td>6</td>\n",
       "      <td>0.957143</td>\n",
       "      <td>0.957143</td>\n",
       "      <td>0.965714</td>\n",
       "      <td>0.842857</td>\n",
       "      <td>0.965714</td>\n",
       "    </tr>\n",
       "    <tr>\n",
       "      <th>6</th>\n",
       "      <td>7</td>\n",
       "      <td>0.957143</td>\n",
       "      <td>0.957143</td>\n",
       "      <td>0.962857</td>\n",
       "      <td>0.857143</td>\n",
       "      <td>0.962857</td>\n",
       "    </tr>\n",
       "    <tr>\n",
       "      <th>7</th>\n",
       "      <td>8</td>\n",
       "      <td>0.957143</td>\n",
       "      <td>0.957143</td>\n",
       "      <td>0.962857</td>\n",
       "      <td>0.851429</td>\n",
       "      <td>0.962857</td>\n",
       "    </tr>\n",
       "    <tr>\n",
       "      <th>8</th>\n",
       "      <td>9</td>\n",
       "      <td>0.957143</td>\n",
       "      <td>0.957143</td>\n",
       "      <td>0.965714</td>\n",
       "      <td>0.857143</td>\n",
       "      <td>0.965714</td>\n",
       "    </tr>\n",
       "    <tr>\n",
       "      <th>9</th>\n",
       "      <td>10</td>\n",
       "      <td>0.957143</td>\n",
       "      <td>0.957143</td>\n",
       "      <td>0.960000</td>\n",
       "      <td>0.851429</td>\n",
       "      <td>0.960000</td>\n",
       "    </tr>\n",
       "    <tr>\n",
       "      <th>10</th>\n",
       "      <td>11</td>\n",
       "      <td>0.957143</td>\n",
       "      <td>0.957143</td>\n",
       "      <td>0.965714</td>\n",
       "      <td>0.851429</td>\n",
       "      <td>0.965714</td>\n",
       "    </tr>\n",
       "    <tr>\n",
       "      <th>11</th>\n",
       "      <td>12</td>\n",
       "      <td>0.957143</td>\n",
       "      <td>0.957143</td>\n",
       "      <td>0.960000</td>\n",
       "      <td>0.851429</td>\n",
       "      <td>0.960000</td>\n",
       "    </tr>\n",
       "    <tr>\n",
       "      <th>12</th>\n",
       "      <td>13</td>\n",
       "      <td>0.957143</td>\n",
       "      <td>0.957143</td>\n",
       "      <td>0.960000</td>\n",
       "      <td>0.857143</td>\n",
       "      <td>0.960000</td>\n",
       "    </tr>\n",
       "    <tr>\n",
       "      <th>13</th>\n",
       "      <td>14</td>\n",
       "      <td>0.957143</td>\n",
       "      <td>0.957143</td>\n",
       "      <td>0.957143</td>\n",
       "      <td>0.860000</td>\n",
       "      <td>0.957143</td>\n",
       "    </tr>\n",
       "    <tr>\n",
       "      <th>14</th>\n",
       "      <td>15</td>\n",
       "      <td>0.957143</td>\n",
       "      <td>0.957143</td>\n",
       "      <td>0.960000</td>\n",
       "      <td>0.865714</td>\n",
       "      <td>0.960000</td>\n",
       "    </tr>\n",
       "  </tbody>\n",
       "</table>\n",
       "</div>"
      ],
      "text/plain": [
       "    Neighbours  Score_standardscaler  Score_minmax  Score_maxabs  \\\n",
       "0            1              0.945714      0.951429      0.945714   \n",
       "1            2              0.942857      0.945714      0.937143   \n",
       "2            3              0.954286      0.954286      0.962857   \n",
       "3            4              0.951429      0.951429      0.951429   \n",
       "4            5              0.957143      0.957143      0.965714   \n",
       "5            6              0.957143      0.957143      0.965714   \n",
       "6            7              0.957143      0.957143      0.962857   \n",
       "7            8              0.957143      0.957143      0.962857   \n",
       "8            9              0.957143      0.957143      0.965714   \n",
       "9           10              0.957143      0.957143      0.960000   \n",
       "10          11              0.957143      0.957143      0.965714   \n",
       "11          12              0.957143      0.957143      0.960000   \n",
       "12          13              0.957143      0.957143      0.960000   \n",
       "13          14              0.957143      0.957143      0.957143   \n",
       "14          15              0.957143      0.957143      0.960000   \n",
       "\n",
       "    Score_normalizer  Score_noscaling  \n",
       "0           0.851429         0.945714  \n",
       "1           0.828571         0.937143  \n",
       "2           0.857143         0.962857  \n",
       "3           0.837143         0.951429  \n",
       "4           0.840000         0.965714  \n",
       "5           0.842857         0.965714  \n",
       "6           0.857143         0.962857  \n",
       "7           0.851429         0.962857  \n",
       "8           0.857143         0.965714  \n",
       "9           0.851429         0.960000  \n",
       "10          0.851429         0.965714  \n",
       "11          0.851429         0.960000  \n",
       "12          0.857143         0.960000  \n",
       "13          0.860000         0.957143  \n",
       "14          0.865714         0.960000  "
      ]
     },
     "execution_count": 145,
     "metadata": {},
     "output_type": "execute_result"
    }
   ],
   "source": [
    "Results"
   ]
  },
  {
   "cell_type": "markdown",
   "metadata": {},
   "source": [
    "Be sure to always keep the domain of the problem in mind! It's WAY more important to errantly classify a benign tumor as malignant, and have it removed, than to incorrectly leave a malignant tumor, believing it to be benign, and then having the patient progress in cancer. Since the UDF weights don't give you any class information, the only way to introduce this data into SKLearn's KNN Classifier is by \"baking\" it into your data. For example, randomly reducing the ratio of benign samples compared to malignant samples from the training set."
   ]
  },
  {
   "cell_type": "markdown",
   "metadata": {
    "collapsed": true
   },
   "source": [
    "Calculate and display the accuracy of the testing set:"
   ]
  },
  {
   "cell_type": "code",
   "execution_count": 147,
   "metadata": {},
   "outputs": [
    {
     "name": "stdout",
     "output_type": "stream",
     "text": [
      "Plotting...\n"
     ]
    },
    {
     "data": {
      "image/png": "[encoded data removed]",
      "text/plain": [
       "<matplotlib.figure.Figure at 0x182125987f0>"
      ]
     },
     "metadata": {},
     "output_type": "display_data"
    }
   ],
   "source": [
    "plotDecisionBoundary(model, Xtest, ytest)"
   ]
  }
 ],
 "metadata": {
  "anaconda-cloud": {},
  "kernelspec": {
   "display_name": "Python 3",
   "language": "python",
   "name": "python3"
  },
  "language_info": {
   "codemirror_mode": {
    "name": "ipython",
    "version": 3
   },
   "file_extension": ".py",
   "mimetype": "text/x-python",
   "name": "python",
   "nbconvert_exporter": "python",
   "pygments_lexer": "ipython3",
   "version": "3.6.4"
  },
  "toc": {
   "colors": {
    "hover_highlight": "#DAA520",
    "running_highlight": "#FF0000",
    "selected_highlight": "#FFD700"
   },
   "moveMenuLeft": true,
   "nav_menu": {
    "height": "58px",
    "width": "252px"
   },
   "navigate_menu": true,
   "number_sections": true,
   "sideBar": true,
   "threshold": 4,
   "toc_cell": false,
   "toc_section_display": "block",
   "toc_window_display": false,
   "widenNotebook": false
  }
 },
 "nbformat": 4,
 "nbformat_minor": 2
}
