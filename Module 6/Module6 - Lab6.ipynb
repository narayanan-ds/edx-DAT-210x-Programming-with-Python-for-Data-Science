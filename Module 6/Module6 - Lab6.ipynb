{
 "cells": [
  {
   "cell_type": "markdown",
   "metadata": {},
   "source": [
    "# DAT210x - Programming with Python for DS"
   ]
  },
  {
   "cell_type": "markdown",
   "metadata": {},
   "source": [
    "## Module6- Lab6"
   ]
  },
  {
   "cell_type": "code",
   "execution_count": 106,
   "metadata": {},
   "outputs": [],
   "source": [
    "import time\n",
    "import pandas as pd\n",
    "import numpy as np\n",
    "import matplotlib.pyplot as plt\n",
    "import sklearn.preprocessing as sp\n",
    "from sklearn.tree import export_graphviz"
   ]
  },
  {
   "cell_type": "markdown",
   "metadata": {
    "collapsed": true
   },
   "source": [
    "### How to Get The Dataset"
   ]
  },
  {
   "cell_type": "markdown",
   "metadata": {
    "collapsed": true
   },
   "source": [
    "Grab the DLA HAR dataset from:\n",
    "\n",
    "- http://groupware.les.inf.puc-rio.br/har\n",
    "- http://groupware.les.inf.puc-rio.br/static/har/dataset-har-PUC-Rio-ugulino.zip\n",
    "- A cached copy of the dataset is included in the course repository.\n",
    "\n",
    "After extracting it out, load up the dataset into dataframe named `X` and do your regular dataframe examination:"
   ]
  },
  {
   "cell_type": "code",
   "execution_count": 107,
   "metadata": {},
   "outputs": [
    {
     "name": "stderr",
     "output_type": "stream",
     "text": [
      "C:\\ProgramData\\Anaconda3\\lib\\site-packages\\IPython\\core\\interactiveshell.py:2728: DtypeWarning: Columns (17) have mixed types. Specify dtype option on import or set low_memory=False.\n",
      "  interactivity=interactivity, compiler=compiler, result=result)\n"
     ]
    }
   ],
   "source": [
    "X=pd.read_csv('dataset-har-PUC-Rio-ugulino.csv',sep=';')"
   ]
  },
  {
   "cell_type": "code",
   "execution_count": 108,
   "metadata": {},
   "outputs": [
    {
     "data": {
      "text/html": [
       "<div>\n",
       "<style scoped>\n",
       "    .dataframe tbody tr th:only-of-type {\n",
       "        vertical-align: middle;\n",
       "    }\n",
       "\n",
       "    .dataframe tbody tr th {\n",
       "        vertical-align: top;\n",
       "    }\n",
       "\n",
       "    .dataframe thead th {\n",
       "        text-align: right;\n",
       "    }\n",
       "</style>\n",
       "<table border=\"1\" class=\"dataframe\">\n",
       "  <thead>\n",
       "    <tr style=\"text-align: right;\">\n",
       "      <th></th>\n",
       "      <th>user</th>\n",
       "      <th>gender</th>\n",
       "      <th>age</th>\n",
       "      <th>how_tall_in_meters</th>\n",
       "      <th>weight</th>\n",
       "      <th>body_mass_index</th>\n",
       "      <th>x1</th>\n",
       "      <th>y1</th>\n",
       "      <th>z1</th>\n",
       "      <th>x2</th>\n",
       "      <th>y2</th>\n",
       "      <th>z2</th>\n",
       "      <th>x3</th>\n",
       "      <th>y3</th>\n",
       "      <th>z3</th>\n",
       "      <th>x4</th>\n",
       "      <th>y4</th>\n",
       "      <th>z4</th>\n",
       "      <th>class</th>\n",
       "    </tr>\n",
       "  </thead>\n",
       "  <tbody>\n",
       "    <tr>\n",
       "      <th>0</th>\n",
       "      <td>debora</td>\n",
       "      <td>Woman</td>\n",
       "      <td>46</td>\n",
       "      <td>1,62</td>\n",
       "      <td>75</td>\n",
       "      <td>28,6</td>\n",
       "      <td>-3</td>\n",
       "      <td>92</td>\n",
       "      <td>-63</td>\n",
       "      <td>-23</td>\n",
       "      <td>18</td>\n",
       "      <td>-19</td>\n",
       "      <td>5</td>\n",
       "      <td>104</td>\n",
       "      <td>-92</td>\n",
       "      <td>-150</td>\n",
       "      <td>-103</td>\n",
       "      <td>-147</td>\n",
       "      <td>sitting</td>\n",
       "    </tr>\n",
       "    <tr>\n",
       "      <th>1</th>\n",
       "      <td>debora</td>\n",
       "      <td>Woman</td>\n",
       "      <td>46</td>\n",
       "      <td>1,62</td>\n",
       "      <td>75</td>\n",
       "      <td>28,6</td>\n",
       "      <td>-3</td>\n",
       "      <td>94</td>\n",
       "      <td>-64</td>\n",
       "      <td>-21</td>\n",
       "      <td>18</td>\n",
       "      <td>-18</td>\n",
       "      <td>-14</td>\n",
       "      <td>104</td>\n",
       "      <td>-90</td>\n",
       "      <td>-149</td>\n",
       "      <td>-104</td>\n",
       "      <td>-145</td>\n",
       "      <td>sitting</td>\n",
       "    </tr>\n",
       "    <tr>\n",
       "      <th>2</th>\n",
       "      <td>debora</td>\n",
       "      <td>Woman</td>\n",
       "      <td>46</td>\n",
       "      <td>1,62</td>\n",
       "      <td>75</td>\n",
       "      <td>28,6</td>\n",
       "      <td>-1</td>\n",
       "      <td>97</td>\n",
       "      <td>-61</td>\n",
       "      <td>-12</td>\n",
       "      <td>20</td>\n",
       "      <td>-15</td>\n",
       "      <td>-13</td>\n",
       "      <td>104</td>\n",
       "      <td>-90</td>\n",
       "      <td>-151</td>\n",
       "      <td>-104</td>\n",
       "      <td>-144</td>\n",
       "      <td>sitting</td>\n",
       "    </tr>\n",
       "    <tr>\n",
       "      <th>3</th>\n",
       "      <td>debora</td>\n",
       "      <td>Woman</td>\n",
       "      <td>46</td>\n",
       "      <td>1,62</td>\n",
       "      <td>75</td>\n",
       "      <td>28,6</td>\n",
       "      <td>-2</td>\n",
       "      <td>96</td>\n",
       "      <td>-57</td>\n",
       "      <td>-15</td>\n",
       "      <td>21</td>\n",
       "      <td>-16</td>\n",
       "      <td>-13</td>\n",
       "      <td>104</td>\n",
       "      <td>-89</td>\n",
       "      <td>-153</td>\n",
       "      <td>-103</td>\n",
       "      <td>-142</td>\n",
       "      <td>sitting</td>\n",
       "    </tr>\n",
       "    <tr>\n",
       "      <th>4</th>\n",
       "      <td>debora</td>\n",
       "      <td>Woman</td>\n",
       "      <td>46</td>\n",
       "      <td>1,62</td>\n",
       "      <td>75</td>\n",
       "      <td>28,6</td>\n",
       "      <td>-1</td>\n",
       "      <td>96</td>\n",
       "      <td>-61</td>\n",
       "      <td>-13</td>\n",
       "      <td>20</td>\n",
       "      <td>-15</td>\n",
       "      <td>-13</td>\n",
       "      <td>104</td>\n",
       "      <td>-89</td>\n",
       "      <td>-153</td>\n",
       "      <td>-104</td>\n",
       "      <td>-143</td>\n",
       "      <td>sitting</td>\n",
       "    </tr>\n",
       "  </tbody>\n",
       "</table>\n",
       "</div>"
      ],
      "text/plain": [
       "     user gender  age how_tall_in_meters  weight body_mass_index  x1  y1  z1  \\\n",
       "0  debora  Woman   46               1,62      75            28,6  -3  92 -63   \n",
       "1  debora  Woman   46               1,62      75            28,6  -3  94 -64   \n",
       "2  debora  Woman   46               1,62      75            28,6  -1  97 -61   \n",
       "3  debora  Woman   46               1,62      75            28,6  -2  96 -57   \n",
       "4  debora  Woman   46               1,62      75            28,6  -1  96 -61   \n",
       "\n",
       "   x2  y2  z2  x3   y3  z3   x4   y4    z4    class  \n",
       "0 -23  18 -19   5  104 -92 -150 -103  -147  sitting  \n",
       "1 -21  18 -18 -14  104 -90 -149 -104  -145  sitting  \n",
       "2 -12  20 -15 -13  104 -90 -151 -104  -144  sitting  \n",
       "3 -15  21 -16 -13  104 -89 -153 -103  -142  sitting  \n",
       "4 -13  20 -15 -13  104 -89 -153 -104  -143  sitting  "
      ]
     },
     "execution_count": 108,
     "metadata": {},
     "output_type": "execute_result"
    }
   ],
   "source": [
    "X.head()"
   ]
  },
  {
   "cell_type": "code",
   "execution_count": 109,
   "metadata": {
    "scrolled": true
   },
   "outputs": [
    {
     "name": "stdout",
     "output_type": "stream",
     "text": [
      "     user gender  age how_tall_in_meters  weight body_mass_index  x1  y1  z1  \\\n",
      "0  debora  Woman   46               1,62      75            28,6  -3  92 -63   \n",
      "1  debora  Woman   46               1,62      75            28,6  -3  94 -64   \n",
      "2  debora  Woman   46               1,62      75            28,6  -1  97 -61   \n",
      "3  debora  Woman   46               1,62      75            28,6  -2  96 -57   \n",
      "4  debora  Woman   46               1,62      75            28,6  -1  96 -61   \n",
      "\n",
      "   x2  y2  z2  x3   y3  z3   x4   y4    z4    class  \n",
      "0 -23  18 -19   5  104 -92 -150 -103  -147  sitting  \n",
      "1 -21  18 -18 -14  104 -90 -149 -104  -145  sitting  \n",
      "2 -12  20 -15 -13  104 -90 -151 -104  -144  sitting  \n",
      "3 -15  21 -16 -13  104 -89 -153 -103  -142  sitting  \n",
      "4 -13  20 -15 -13  104 -89 -153 -104  -143  sitting  \n",
      "\n",
      "\n",
      "(165633, 19)\n",
      "\n",
      "\n",
      "                 age         weight             x1             y1  \\\n",
      "count  165633.000000  165633.000000  165633.000000  165633.000000   \n",
      "mean       38.265146      70.819408      -6.649327      88.293667   \n",
      "std        13.184091      11.296527      11.616238      23.895829   \n",
      "min        28.000000      55.000000    -306.000000    -271.000000   \n",
      "25%        28.000000      55.000000     -12.000000      78.000000   \n",
      "50%        31.000000      75.000000      -6.000000      94.000000   \n",
      "75%        46.000000      83.000000       0.000000     101.000000   \n",
      "max        75.000000      83.000000     509.000000     533.000000   \n",
      "\n",
      "                  z1             x2             y2             z2  \\\n",
      "count  165633.000000  165633.000000  165633.000000  165633.000000   \n",
      "mean      -93.164611     -87.827504     -52.065047    -175.055200   \n",
      "std        39.409423     169.435194     205.159763     192.816615   \n",
      "min      -603.000000    -494.000000    -517.000000    -617.000000   \n",
      "25%      -120.000000     -35.000000     -29.000000    -141.000000   \n",
      "50%       -98.000000      -9.000000      27.000000    -118.000000   \n",
      "75%       -64.000000       4.000000      86.000000     -29.000000   \n",
      "max       411.000000     473.000000     295.000000     122.000000   \n",
      "\n",
      "                  x3             y3             z3             x4  \\\n",
      "count  165633.000000  165633.000000  165633.000000  165633.000000   \n",
      "mean       17.423515     104.517167     -93.881726    -167.641448   \n",
      "std        52.635388      54.155843      45.389646      38.311342   \n",
      "min      -499.000000    -506.000000    -613.000000    -702.000000   \n",
      "25%         9.000000      95.000000    -103.000000    -190.000000   \n",
      "50%        22.000000     107.000000     -90.000000    -168.000000   \n",
      "75%        34.000000     120.000000     -80.000000    -153.000000   \n",
      "max       507.000000     517.000000     410.000000     -13.000000   \n",
      "\n",
      "                  y4  \n",
      "count  165633.000000  \n",
      "mean      -92.625171  \n",
      "std        19.968610  \n",
      "min      -526.000000  \n",
      "25%      -103.000000  \n",
      "50%       -91.000000  \n",
      "75%       -80.000000  \n",
      "max        86.000000  \n"
     ]
    }
   ],
   "source": [
    "print(X.head())\n",
    "print(\"\\n\")\n",
    "print(X.shape)\n",
    "print(\"\\n\")\n",
    "print(X.describe())"
   ]
  },
  {
   "cell_type": "markdown",
   "metadata": {},
   "source": [
    "Encode the gender column such that: `0` is male, and `1` as female:"
   ]
  },
  {
   "cell_type": "code",
   "execution_count": 110,
   "metadata": {},
   "outputs": [
    {
     "data": {
      "text/plain": [
       "array([0, 1], dtype=int64)"
      ]
     },
     "execution_count": 110,
     "metadata": {},
     "output_type": "execute_result"
    }
   ],
   "source": [
    "X.gender=X.gender.map({'Man':1,'Woman':0})\n",
    "X.gender.unique()"
   ]
  },
  {
   "cell_type": "markdown",
   "metadata": {},
   "source": [
    "Clean up any columns with commas in them so that they're properly represented as decimals:"
   ]
  },
  {
   "cell_type": "markdown",
   "metadata": {},
   "source": [
    "Let's take a peek at your data types:"
   ]
  },
  {
   "cell_type": "code",
   "execution_count": 111,
   "metadata": {},
   "outputs": [
    {
     "data": {
      "text/plain": [
       "user                  object\n",
       "gender                 int64\n",
       "age                    int64\n",
       "how_tall_in_meters    object\n",
       "weight                 int64\n",
       "body_mass_index       object\n",
       "x1                     int64\n",
       "y1                     int64\n",
       "z1                     int64\n",
       "x2                     int64\n",
       "y2                     int64\n",
       "z2                     int64\n",
       "x3                     int64\n",
       "y3                     int64\n",
       "z3                     int64\n",
       "x4                     int64\n",
       "y4                     int64\n",
       "z4                    object\n",
       "class                 object\n",
       "dtype: object"
      ]
     },
     "execution_count": 111,
     "metadata": {},
     "output_type": "execute_result"
    }
   ],
   "source": [
    "X.dtypes"
   ]
  },
  {
   "cell_type": "markdown",
   "metadata": {},
   "source": [
    "Convert any column that needs to be converted into numeric use `errors='raise'`. This will alert you if something ends up being problematic."
   ]
  },
  {
   "cell_type": "code",
   "execution_count": 112,
   "metadata": {},
   "outputs": [
    {
     "name": "stdout",
     "output_type": "stream",
     "text": [
      "[-147 -145 -144 -142 -143 -146 -138 -139 -141 -133 -134 -135 -140 -137\n",
      " -148 -151 -149 -150 -152 -156 -157 -155 -154 -153 -158 -159 -162 -163\n",
      " -161 -160 -164 -165 -136 -126 -125 -122 -132 -167 -170 -169 -175 -173\n",
      " -166 -168 -171 -172 -174 -179 -177 -176 -127 -131 -184 -181 -178 -180\n",
      " -106 -114 -116 -115 -89 -79 -93 -78 -128 -109 -113 -119 -102 -111 -103\n",
      " -130 -129 -182 -121 -186 -183 -187 -190 -188 -189 -185 -192 -191 -193\n",
      " -194 -197 -196 -201 -251 -195 -199 -198 -123 -124 -112 -118 -120 -99 -95\n",
      " -68 -110 -117 -96 -100 -105 -92 -88 -107 -213 -108 -104 -98 -94 -91 -97\n",
      " -69 -101 -86 -82 -66 -77 -90 -56 -74 -83 -81 -219 -200 '-158' '-165'\n",
      " '-157' '-160' '-161' '-155' '-162' '-156' '-159' '-163' '-168' '-170'\n",
      " '-166' '-172' '-177' '-171' '-169' '-173' '-167' '-174' '-164' '-176'\n",
      " '-175' '-154' '-146' '-142' '-137' '-141' '-139' '-148' '-147' '-153'\n",
      " '-140' '-138' '-128' '-134' '-150' '-149' '-152' '-151' '-136' '-145'\n",
      " '-143' '-182' '-184' '-179' '-186' '-188' '-183' '-191' '-185' '-181'\n",
      " '-144' '-190' '-197' '-180' '-192' '-201' '-196' '-189' '-120' '-118'\n",
      " '-117' '-116' '-112' '-122' '-113' '-110' '-121' '-115' '-119' '-124'\n",
      " '-131' '-130' '-114' '-135' '-100' '-97' '-106' '-125' '-132' '-126'\n",
      " '-129' '-133' '-221' '-127' '-123' '-109' '-200' '-199' '-178' '-104'\n",
      " '-111' '-187' '-103' '-102' '-107' '-98' '-80' '-231' '-194' '-210'\n",
      " '-105' '-90' '-101' '-71' '-195' '-82' '-95' '-108' '-207' '-209' '-202'\n",
      " '-205' '-208' '-211' '-214' '-203' '-204' '-212' '-206' '-198' '-193'\n",
      " '-216' '-213' '-93' '-96' '-73' '-99' '-14420-11-2011 04:50:23.713' '-88'\n",
      " '-94' '-43' -202 -537 -205 -206 -210 -204 -203 -218 -215 -208 -212 -216\n",
      " -207 -259]\n"
     ]
    }
   ],
   "source": [
    "X['how_tall_in_meters']=X['how_tall_in_meters'].str.replace(',', '.')\n",
    "X['how_tall_in_meters']=pd.to_numeric(X['how_tall_in_meters'],errors='raise')\n",
    "X['body_mass_index']=X['body_mass_index'].str.replace(',', '.')\n",
    "X['body_mass_index']=pd.to_numeric(X['body_mass_index'],errors='raise')\n",
    "print(X.z4.unique())\n",
    "X=X.drop([122076])\n",
    "X['z4']=pd.to_numeric(X['z4'],errors='raise')"
   ]
  },
  {
   "cell_type": "markdown",
   "metadata": {},
   "source": [
    "If you find any problematic records, drop them before calling the `to_numeric` methods above."
   ]
  },
  {
   "cell_type": "markdown",
   "metadata": {
    "collapsed": true
   },
   "source": [
    "Okay, now encode your `y` value as a Pandas dummies version of your dataset's `class` column:"
   ]
  },
  {
   "cell_type": "code",
   "execution_count": 113,
   "metadata": {},
   "outputs": [],
   "source": [
    "y=X[['class']].copy()"
   ]
  },
  {
   "cell_type": "code",
   "execution_count": 114,
   "metadata": {},
   "outputs": [
    {
     "data": {
      "text/html": [
       "<div>\n",
       "<style scoped>\n",
       "    .dataframe tbody tr th:only-of-type {\n",
       "        vertical-align: middle;\n",
       "    }\n",
       "\n",
       "    .dataframe tbody tr th {\n",
       "        vertical-align: top;\n",
       "    }\n",
       "\n",
       "    .dataframe thead th {\n",
       "        text-align: right;\n",
       "    }\n",
       "</style>\n",
       "<table border=\"1\" class=\"dataframe\">\n",
       "  <thead>\n",
       "    <tr style=\"text-align: right;\">\n",
       "      <th></th>\n",
       "      <th>class_sitting</th>\n",
       "      <th>class_sittingdown</th>\n",
       "      <th>class_standing</th>\n",
       "      <th>class_standingup</th>\n",
       "      <th>class_walking</th>\n",
       "    </tr>\n",
       "  </thead>\n",
       "  <tbody>\n",
       "    <tr>\n",
       "      <th>0</th>\n",
       "      <td>1</td>\n",
       "      <td>0</td>\n",
       "      <td>0</td>\n",
       "      <td>0</td>\n",
       "      <td>0</td>\n",
       "    </tr>\n",
       "    <tr>\n",
       "      <th>1</th>\n",
       "      <td>1</td>\n",
       "      <td>0</td>\n",
       "      <td>0</td>\n",
       "      <td>0</td>\n",
       "      <td>0</td>\n",
       "    </tr>\n",
       "    <tr>\n",
       "      <th>2</th>\n",
       "      <td>1</td>\n",
       "      <td>0</td>\n",
       "      <td>0</td>\n",
       "      <td>0</td>\n",
       "      <td>0</td>\n",
       "    </tr>\n",
       "    <tr>\n",
       "      <th>3</th>\n",
       "      <td>1</td>\n",
       "      <td>0</td>\n",
       "      <td>0</td>\n",
       "      <td>0</td>\n",
       "      <td>0</td>\n",
       "    </tr>\n",
       "    <tr>\n",
       "      <th>4</th>\n",
       "      <td>1</td>\n",
       "      <td>0</td>\n",
       "      <td>0</td>\n",
       "      <td>0</td>\n",
       "      <td>0</td>\n",
       "    </tr>\n",
       "  </tbody>\n",
       "</table>\n",
       "</div>"
      ],
      "text/plain": [
       "   class_sitting  class_sittingdown  class_standing  class_standingup  \\\n",
       "0              1                  0               0                 0   \n",
       "1              1                  0               0                 0   \n",
       "2              1                  0               0                 0   \n",
       "3              1                  0               0                 0   \n",
       "4              1                  0               0                 0   \n",
       "\n",
       "   class_walking  \n",
       "0              0  \n",
       "1              0  \n",
       "2              0  \n",
       "3              0  \n",
       "4              0  "
      ]
     },
     "execution_count": 114,
     "metadata": {},
     "output_type": "execute_result"
    }
   ],
   "source": [
    "y=pd.get_dummies(y,columns=['class'])\n",
    "y.head()"
   ]
  },
  {
   "cell_type": "markdown",
   "metadata": {
    "collapsed": true
   },
   "source": [
    "In fact, get rid of the `user` and `class` columns:"
   ]
  },
  {
   "cell_type": "code",
   "execution_count": 115,
   "metadata": {},
   "outputs": [],
   "source": [
    "X=X.drop(labels=['user','class'],axis=1)"
   ]
  },
  {
   "cell_type": "markdown",
   "metadata": {},
   "source": [
    "Let's take a look at your handy-work:"
   ]
  },
  {
   "cell_type": "code",
   "execution_count": 116,
   "metadata": {
    "scrolled": true
   },
   "outputs": [
    {
     "data": {
      "text/html": [
       "<div>\n",
       "<style scoped>\n",
       "    .dataframe tbody tr th:only-of-type {\n",
       "        vertical-align: middle;\n",
       "    }\n",
       "\n",
       "    .dataframe tbody tr th {\n",
       "        vertical-align: top;\n",
       "    }\n",
       "\n",
       "    .dataframe thead th {\n",
       "        text-align: right;\n",
       "    }\n",
       "</style>\n",
       "<table border=\"1\" class=\"dataframe\">\n",
       "  <thead>\n",
       "    <tr style=\"text-align: right;\">\n",
       "      <th></th>\n",
       "      <th>gender</th>\n",
       "      <th>age</th>\n",
       "      <th>how_tall_in_meters</th>\n",
       "      <th>weight</th>\n",
       "      <th>body_mass_index</th>\n",
       "      <th>x1</th>\n",
       "      <th>y1</th>\n",
       "      <th>z1</th>\n",
       "      <th>x2</th>\n",
       "      <th>y2</th>\n",
       "      <th>z2</th>\n",
       "      <th>x3</th>\n",
       "      <th>y3</th>\n",
       "      <th>z3</th>\n",
       "      <th>x4</th>\n",
       "      <th>y4</th>\n",
       "      <th>z4</th>\n",
       "    </tr>\n",
       "  </thead>\n",
       "  <tbody>\n",
       "    <tr>\n",
       "      <th>count</th>\n",
       "      <td>165632.000000</td>\n",
       "      <td>165632.000000</td>\n",
       "      <td>165632.000000</td>\n",
       "      <td>165632.000000</td>\n",
       "      <td>165632.000000</td>\n",
       "      <td>165632.000000</td>\n",
       "      <td>165632.000000</td>\n",
       "      <td>165632.000000</td>\n",
       "      <td>165632.000000</td>\n",
       "      <td>165632.000000</td>\n",
       "      <td>165632.000000</td>\n",
       "      <td>165632.000000</td>\n",
       "      <td>165632.000000</td>\n",
       "      <td>165632.000000</td>\n",
       "      <td>165632.000000</td>\n",
       "      <td>165632.000000</td>\n",
       "      <td>165632.000000</td>\n",
       "    </tr>\n",
       "    <tr>\n",
       "      <th>mean</th>\n",
       "      <td>0.387956</td>\n",
       "      <td>38.264925</td>\n",
       "      <td>1.639712</td>\n",
       "      <td>70.819431</td>\n",
       "      <td>26.188535</td>\n",
       "      <td>-6.649319</td>\n",
       "      <td>88.293591</td>\n",
       "      <td>-93.164449</td>\n",
       "      <td>-87.827956</td>\n",
       "      <td>-52.065911</td>\n",
       "      <td>-175.055647</td>\n",
       "      <td>17.423517</td>\n",
       "      <td>104.517056</td>\n",
       "      <td>-93.881641</td>\n",
       "      <td>-167.641211</td>\n",
       "      <td>-92.625235</td>\n",
       "      <td>-159.650985</td>\n",
       "    </tr>\n",
       "    <tr>\n",
       "      <th>std</th>\n",
       "      <td>0.487286</td>\n",
       "      <td>13.183821</td>\n",
       "      <td>0.052820</td>\n",
       "      <td>11.296557</td>\n",
       "      <td>2.995781</td>\n",
       "      <td>11.616273</td>\n",
       "      <td>23.895881</td>\n",
       "      <td>39.409487</td>\n",
       "      <td>169.435606</td>\n",
       "      <td>205.160081</td>\n",
       "      <td>192.817111</td>\n",
       "      <td>52.635546</td>\n",
       "      <td>54.155987</td>\n",
       "      <td>45.389770</td>\n",
       "      <td>38.311336</td>\n",
       "      <td>19.968653</td>\n",
       "      <td>13.221020</td>\n",
       "    </tr>\n",
       "    <tr>\n",
       "      <th>min</th>\n",
       "      <td>0.000000</td>\n",
       "      <td>28.000000</td>\n",
       "      <td>1.580000</td>\n",
       "      <td>55.000000</td>\n",
       "      <td>22.000000</td>\n",
       "      <td>-306.000000</td>\n",
       "      <td>-271.000000</td>\n",
       "      <td>-603.000000</td>\n",
       "      <td>-494.000000</td>\n",
       "      <td>-517.000000</td>\n",
       "      <td>-617.000000</td>\n",
       "      <td>-499.000000</td>\n",
       "      <td>-506.000000</td>\n",
       "      <td>-613.000000</td>\n",
       "      <td>-702.000000</td>\n",
       "      <td>-526.000000</td>\n",
       "      <td>-537.000000</td>\n",
       "    </tr>\n",
       "    <tr>\n",
       "      <th>25%</th>\n",
       "      <td>0.000000</td>\n",
       "      <td>28.000000</td>\n",
       "      <td>1.580000</td>\n",
       "      <td>55.000000</td>\n",
       "      <td>22.000000</td>\n",
       "      <td>-12.000000</td>\n",
       "      <td>78.000000</td>\n",
       "      <td>-120.000000</td>\n",
       "      <td>-35.000000</td>\n",
       "      <td>-29.000000</td>\n",
       "      <td>-141.000000</td>\n",
       "      <td>9.000000</td>\n",
       "      <td>95.000000</td>\n",
       "      <td>-103.000000</td>\n",
       "      <td>-190.000000</td>\n",
       "      <td>-103.000000</td>\n",
       "      <td>-167.000000</td>\n",
       "    </tr>\n",
       "    <tr>\n",
       "      <th>50%</th>\n",
       "      <td>0.000000</td>\n",
       "      <td>31.000000</td>\n",
       "      <td>1.620000</td>\n",
       "      <td>75.000000</td>\n",
       "      <td>28.400000</td>\n",
       "      <td>-6.000000</td>\n",
       "      <td>94.000000</td>\n",
       "      <td>-98.000000</td>\n",
       "      <td>-9.000000</td>\n",
       "      <td>27.000000</td>\n",
       "      <td>-118.000000</td>\n",
       "      <td>22.000000</td>\n",
       "      <td>107.000000</td>\n",
       "      <td>-90.000000</td>\n",
       "      <td>-168.000000</td>\n",
       "      <td>-91.000000</td>\n",
       "      <td>-160.000000</td>\n",
       "    </tr>\n",
       "    <tr>\n",
       "      <th>75%</th>\n",
       "      <td>1.000000</td>\n",
       "      <td>46.000000</td>\n",
       "      <td>1.710000</td>\n",
       "      <td>83.000000</td>\n",
       "      <td>28.600000</td>\n",
       "      <td>0.000000</td>\n",
       "      <td>101.000000</td>\n",
       "      <td>-64.000000</td>\n",
       "      <td>4.000000</td>\n",
       "      <td>86.000000</td>\n",
       "      <td>-29.000000</td>\n",
       "      <td>34.000000</td>\n",
       "      <td>120.000000</td>\n",
       "      <td>-80.000000</td>\n",
       "      <td>-153.000000</td>\n",
       "      <td>-80.000000</td>\n",
       "      <td>-153.000000</td>\n",
       "    </tr>\n",
       "    <tr>\n",
       "      <th>max</th>\n",
       "      <td>1.000000</td>\n",
       "      <td>75.000000</td>\n",
       "      <td>1.710000</td>\n",
       "      <td>83.000000</td>\n",
       "      <td>28.600000</td>\n",
       "      <td>509.000000</td>\n",
       "      <td>533.000000</td>\n",
       "      <td>411.000000</td>\n",
       "      <td>473.000000</td>\n",
       "      <td>295.000000</td>\n",
       "      <td>122.000000</td>\n",
       "      <td>507.000000</td>\n",
       "      <td>517.000000</td>\n",
       "      <td>410.000000</td>\n",
       "      <td>-13.000000</td>\n",
       "      <td>86.000000</td>\n",
       "      <td>-43.000000</td>\n",
       "    </tr>\n",
       "  </tbody>\n",
       "</table>\n",
       "</div>"
      ],
      "text/plain": [
       "              gender            age  how_tall_in_meters         weight  \\\n",
       "count  165632.000000  165632.000000       165632.000000  165632.000000   \n",
       "mean        0.387956      38.264925            1.639712      70.819431   \n",
       "std         0.487286      13.183821            0.052820      11.296557   \n",
       "min         0.000000      28.000000            1.580000      55.000000   \n",
       "25%         0.000000      28.000000            1.580000      55.000000   \n",
       "50%         0.000000      31.000000            1.620000      75.000000   \n",
       "75%         1.000000      46.000000            1.710000      83.000000   \n",
       "max         1.000000      75.000000            1.710000      83.000000   \n",
       "\n",
       "       body_mass_index             x1             y1             z1  \\\n",
       "count    165632.000000  165632.000000  165632.000000  165632.000000   \n",
       "mean         26.188535      -6.649319      88.293591     -93.164449   \n",
       "std           2.995781      11.616273      23.895881      39.409487   \n",
       "min          22.000000    -306.000000    -271.000000    -603.000000   \n",
       "25%          22.000000     -12.000000      78.000000    -120.000000   \n",
       "50%          28.400000      -6.000000      94.000000     -98.000000   \n",
       "75%          28.600000       0.000000     101.000000     -64.000000   \n",
       "max          28.600000     509.000000     533.000000     411.000000   \n",
       "\n",
       "                  x2             y2             z2             x3  \\\n",
       "count  165632.000000  165632.000000  165632.000000  165632.000000   \n",
       "mean      -87.827956     -52.065911    -175.055647      17.423517   \n",
       "std       169.435606     205.160081     192.817111      52.635546   \n",
       "min      -494.000000    -517.000000    -617.000000    -499.000000   \n",
       "25%       -35.000000     -29.000000    -141.000000       9.000000   \n",
       "50%        -9.000000      27.000000    -118.000000      22.000000   \n",
       "75%         4.000000      86.000000     -29.000000      34.000000   \n",
       "max       473.000000     295.000000     122.000000     507.000000   \n",
       "\n",
       "                  y3             z3             x4             y4  \\\n",
       "count  165632.000000  165632.000000  165632.000000  165632.000000   \n",
       "mean      104.517056     -93.881641    -167.641211     -92.625235   \n",
       "std        54.155987      45.389770      38.311336      19.968653   \n",
       "min      -506.000000    -613.000000    -702.000000    -526.000000   \n",
       "25%        95.000000    -103.000000    -190.000000    -103.000000   \n",
       "50%       107.000000     -90.000000    -168.000000     -91.000000   \n",
       "75%       120.000000     -80.000000    -153.000000     -80.000000   \n",
       "max       517.000000     410.000000     -13.000000      86.000000   \n",
       "\n",
       "                  z4  \n",
       "count  165632.000000  \n",
       "mean     -159.650985  \n",
       "std        13.221020  \n",
       "min      -537.000000  \n",
       "25%      -167.000000  \n",
       "50%      -160.000000  \n",
       "75%      -153.000000  \n",
       "max       -43.000000  "
      ]
     },
     "execution_count": 116,
     "metadata": {},
     "output_type": "execute_result"
    }
   ],
   "source": [
    "X.describe()"
   ]
  },
  {
   "cell_type": "markdown",
   "metadata": {},
   "source": [
    "You can also easily display which rows have nans in them, if any:"
   ]
  },
  {
   "cell_type": "code",
   "execution_count": 117,
   "metadata": {},
   "outputs": [
    {
     "data": {
      "text/html": [
       "<div>\n",
       "<style scoped>\n",
       "    .dataframe tbody tr th:only-of-type {\n",
       "        vertical-align: middle;\n",
       "    }\n",
       "\n",
       "    .dataframe tbody tr th {\n",
       "        vertical-align: top;\n",
       "    }\n",
       "\n",
       "    .dataframe thead th {\n",
       "        text-align: right;\n",
       "    }\n",
       "</style>\n",
       "<table border=\"1\" class=\"dataframe\">\n",
       "  <thead>\n",
       "    <tr style=\"text-align: right;\">\n",
       "      <th></th>\n",
       "      <th>gender</th>\n",
       "      <th>age</th>\n",
       "      <th>how_tall_in_meters</th>\n",
       "      <th>weight</th>\n",
       "      <th>body_mass_index</th>\n",
       "      <th>x1</th>\n",
       "      <th>y1</th>\n",
       "      <th>z1</th>\n",
       "      <th>x2</th>\n",
       "      <th>y2</th>\n",
       "      <th>z2</th>\n",
       "      <th>x3</th>\n",
       "      <th>y3</th>\n",
       "      <th>z3</th>\n",
       "      <th>x4</th>\n",
       "      <th>y4</th>\n",
       "      <th>z4</th>\n",
       "    </tr>\n",
       "  </thead>\n",
       "  <tbody>\n",
       "  </tbody>\n",
       "</table>\n",
       "</div>"
      ],
      "text/plain": [
       "Empty DataFrame\n",
       "Columns: [gender, age, how_tall_in_meters, weight, body_mass_index, x1, y1, z1, x2, y2, z2, x3, y3, z3, x4, y4, z4]\n",
       "Index: []"
      ]
     },
     "execution_count": 117,
     "metadata": {},
     "output_type": "execute_result"
    }
   ],
   "source": [
    "X[pd.isnull(X).any(axis=1)]"
   ]
  },
  {
   "cell_type": "markdown",
   "metadata": {},
   "source": [
    "Create an RForest classifier named `model` and set `n_estimators=30`, the `max_depth` to 10, `oob_score=True`, and `random_state=0`:"
   ]
  },
  {
   "cell_type": "code",
   "execution_count": 118,
   "metadata": {},
   "outputs": [],
   "source": [
    "from sklearn.ensemble import RandomForestClassifier\n",
    "model = RandomForestClassifier(n_estimators=30,max_depth=10, oob_score=True, random_state=0)"
   ]
  },
  {
   "cell_type": "markdown",
   "metadata": {},
   "source": [
    "Split your data into `test` / `train` sets. Your `test` size can be 30%, with `random_state` 7. Use variable names: `X_train`, `X_test`, `y_train`, and `y_test`:"
   ]
  },
  {
   "cell_type": "code",
   "execution_count": 119,
   "metadata": {},
   "outputs": [],
   "source": [
    "from sklearn.model_selection import train_test_split\n",
    "X_train,X_test,y_train,y_test = train_test_split(X,y,test_size=.3,random_state=7)"
   ]
  },
  {
   "cell_type": "markdown",
   "metadata": {},
   "source": [
    "### Now the Fun Stuff"
   ]
  },
  {
   "cell_type": "code",
   "execution_count": 120,
   "metadata": {
    "scrolled": true
   },
   "outputs": [
    {
     "name": "stdout",
     "output_type": "stream",
     "text": [
      "Fitting...\n",
      "Fitting completed in:  12.28407096862793\n"
     ]
    }
   ],
   "source": [
    "print(\"Fitting...\")\n",
    "s = time.time()\n",
    "\n",
    "# TODO: train your model on your training set\n",
    "\n",
    "model.fit(X_train, y_train)\n",
    "\n",
    "\n",
    "print(\"Fitting completed in: \", time.time() - s)"
   ]
  },
  {
   "cell_type": "markdown",
   "metadata": {},
   "source": [
    "Output for Male 0 female 1 encoding:\n",
    "Fitting...\n",
    "Fitting completed in:  12.515645742416382\n",
    "\n",
    "Output for Male 1 female 0 encoding:\n",
    "Fitting...\n",
    "Fitting completed in:  12.28407096862793"
   ]
  },
  {
   "cell_type": "markdown",
   "metadata": {},
   "source": [
    "Display the OOB Score of your data:"
   ]
  },
  {
   "cell_type": "code",
   "execution_count": 121,
   "metadata": {
    "scrolled": true
   },
   "outputs": [
    {
     "name": "stdout",
     "output_type": "stream",
     "text": [
      "OOB Score:  98.771\n"
     ]
    }
   ],
   "source": [
    "score = model.oob_score_\n",
    "print(\"OOB Score: \", round(score*100, 3))"
   ]
  },
  {
   "cell_type": "markdown",
   "metadata": {},
   "source": [
    "Output for Male 0 female 1 encoding:\n",
    "OOB Score:  98.744\n",
    "Output for Male 1 female 0 encoding:\n",
    "OOB Score:  98.771\n"
   ]
  },
  {
   "cell_type": "code",
   "execution_count": 122,
   "metadata": {},
   "outputs": [
    {
     "name": "stdout",
     "output_type": "stream",
     "text": [
      "Scoring...\n",
      "Score:  95.939\n",
      "Scoring completed in:  0.8991992473602295\n"
     ]
    }
   ],
   "source": [
    "print(\"Scoring...\")\n",
    "s = time.time()\n",
    "\n",
    "# TODO: score your model on your test set\n",
    "\n",
    "score=model.score(X_test, y_test)\n",
    "\n",
    "print(\"Score: \", round(score*100, 3))\n",
    "print(\"Scoring completed in: \", time.time() - s)"
   ]
  },
  {
   "cell_type": "markdown",
   "metadata": {},
   "source": [
    "Output for Male 0 female 1 encoding:\n",
    "Scoring...\n",
    "Score:  95.687\n",
    "Scoring completed in:  1.0583951473236084\n",
    "\n",
    "\n",
    "Output for Male 1 female 0 encoding:\n",
    "Scoring...\n",
    "Score:  95.939\n",
    "Scoring completed in:  0.8991992473602295"
   ]
  },
  {
   "cell_type": "markdown",
   "metadata": {},
   "source": [
    "At this point, go ahead and answer the lab questions, then return here to experiment more --"
   ]
  },
  {
   "cell_type": "markdown",
   "metadata": {},
   "source": [
    "Try playing around with the gender column. For example, encode `gender` `Male:1`, and `Female:0`. Also try encoding it as a Pandas dummies variable and seeing what changes that has. You can also try dropping gender entirely from the dataframe. How does that change the score of the model? This will be a key insight on how your feature encoding alters your overall scoring, and why it's important to choose good ones."
   ]
  },
  {
   "cell_type": "code",
   "execution_count": 123,
   "metadata": {},
   "outputs": [],
   "source": [
    "# .. your code changes above .."
   ]
  },
  {
   "cell_type": "markdown",
   "metadata": {},
   "source": [
    "After that, try messing with `y`. Right now its encoded with dummies, but try other encoding methods to what effects they have."
   ]
  },
  {
   "cell_type": "code",
   "execution_count": null,
   "metadata": {},
   "outputs": [],
   "source": []
  }
 ],
 "metadata": {
  "anaconda-cloud": {},
  "kernelspec": {
   "display_name": "Python 3",
   "language": "python",
   "name": "python3"
  },
  "language_info": {
   "codemirror_mode": {
    "name": "ipython",
    "version": 3
   },
   "file_extension": ".py",
   "mimetype": "text/x-python",
   "name": "python",
   "nbconvert_exporter": "python",
   "pygments_lexer": "ipython3",
   "version": "3.6.4"
  },
  "toc": {
   "colors": {
    "hover_highlight": "#DAA520",
    "running_highlight": "#FF0000",
    "selected_highlight": "#FFD700"
   },
   "moveMenuLeft": true,
   "nav_menu": {
    "height": "58px",
    "width": "252px"
   },
   "navigate_menu": true,
   "number_sections": true,
   "sideBar": true,
   "threshold": 4,
   "toc_cell": false,
   "toc_section_display": "block",
   "toc_window_display": false,
   "widenNotebook": false
  }
 },
 "nbformat": 4,
 "nbformat_minor": 2
}
